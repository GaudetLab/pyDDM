{
 "cells": [
  {
   "cell_type": "code",
   "execution_count": 2,
   "id": "49c3ce37",
   "metadata": {},
   "outputs": [
    {
     "name": "stdout",
     "output_type": "stream",
     "text": [
      "/Users/sam/Documents/GitHub/pyDDM/pyDDM\n"
     ]
    }
   ],
   "source": [
    "cd pyDDM"
   ]
  },
  {
   "cell_type": "code",
   "execution_count": 3,
   "id": "6c222157",
   "metadata": {},
   "outputs": [],
   "source": [
    "import numpy as np\n",
    "import pandas as pd\n",
    "import matplotlib.pyplot as plt\n",
    "\n",
    "import seaborn as sns\n",
    "\n",
    "from bioviper import msa, pdb\n",
    "from ddm import DDM, align_structures, helix_bin\n",
    "\n",
    "from scipy import spatial\n",
    "from scipy.cluster import hierarchy\n",
    "from sklearn.decomposition import PCA, SparsePCA, NMF\n",
    "\n",
    "from matplotlib import cm\n",
    "from matplotlib.colors import LinearSegmentedColormap\n",
    "\n",
    "#so that the pdfs produced are compatible with Adobe Illustrator\n",
    "plt.rcParams['pdf.fonttype'] = 42\n",
    "plt.rcParams[\"font.sans-serif\"] = \"Arial\"\n",
    "\n",
    "helix_names = ['1a','1b','2','3','4','5a','5b','6a','6b','7','8','9','10a','10b']\n",
    "\n",
    "def selector(df, dic):\n",
    "\n",
    "    '''A little tool for selecting from pandas dataframes by passing a dictionary, e.g.\n",
    "            selector(df, {\"color\":\"red\", \"shape\":[\"square\", \"circle\"]})\n",
    "        \n",
    "        For advanced usage, you can pass a function and it will return where True, e.g.\n",
    "            selector(df, [\"name\": lambda name: \"Sam\" in name])\n",
    "            \n",
    "        You can also use this to select things greater than or less than a value, e.g.\n",
    "            selector(df, [\"enrichment\": lambda enr: enr > 1])'''\n",
    "    \n",
    "    X = df.copy()\n",
    "\n",
    "    for key,val in dic.items():\n",
    "        \n",
    "        # If you pass a tuple, list or numpy array\n",
    "        if isinstance(val, (tuple, list, np.ndarray)):\n",
    "            where = np.any(np.array([X[key]==v for v in val]),axis=0)\n",
    "            X = X.loc[where]\n",
    "            \n",
    "        # If you pass a function\n",
    "        elif isinstance(val, type(lambda x: x+1)):\n",
    "            X = X.loc[X[key].apply(val)]\n",
    "            \n",
    "        # Otherwise we assume it's a single value\n",
    "        else:\n",
    "            X = X.loc[X[key]==val]\n",
    "\n",
    "    return X\n",
    "\n",
    "def DDM_linkage_cluster(D, helix_names=None, method='average', plot=True,\n",
    "                       dendrogram_ratio=0.3, colormap='Greys', figsize=(5,5)):\n",
    "    \n",
    "    # Conver the DDM into a \"proper\" distance matrix\n",
    "    for i in range(14):\n",
    "        for j in range(i,14):\n",
    "            \n",
    "            # We need to sadly make the diagonals into zeros\n",
    "            if i==j:\n",
    "                D[(i,j)] = 0\n",
    "                \n",
    "            # Fix numerical errors that make it not technically symmetric\n",
    "            elif D[(i,j)] != D[(j,i)]:\n",
    "                D[(i,j)] = D[(j,i)]\n",
    "                \n",
    "    linkage = hierarchy.linkage(squareform(D), method=method, optimal_ordering=True)\n",
    "    \n",
    "    if plot:\n",
    "        if type(helix_names) == type(None):\n",
    "            print(\"Must pass helix names to plot!\")\n",
    "        else:\n",
    "            Ddf = pd.DataFrame(D, columns=helix_names)\n",
    "            Ddf.index = helix_names\n",
    "            cg = sns.clustermap(Ddf, row_linkage=linkage, col_linkage=linkage, cmap=colormap, figsize=figsize,\n",
    "              dendrogram_ratio=dendrogram_ratio, vmin=0, vmax=8)\n",
    "            \n",
    "            plt.setp(cg.ax_heatmap.yaxis.get_majorticklabels(), rotation=0)\n",
    "            plt.setp(cg.ax_heatmap.xaxis.get_majorticklabels(), rotation=90)\n",
    "            \n",
    "    return linkage"
   ]
  },
  {
   "cell_type": "code",
   "execution_count": 5,
   "id": "b17abc45",
   "metadata": {},
   "outputs": [
    {
     "ename": "NameError",
     "evalue": "name 'transition' is not defined",
     "output_type": "error",
     "traceback": [
      "\u001b[0;31m---------------------------------------------------------------------------\u001b[0m",
      "\u001b[0;31mNameError\u001b[0m                                 Traceback (most recent call last)",
      "Input \u001b[0;32mIn [5]\u001b[0m, in \u001b[0;36m<cell line: 7>\u001b[0;34m()\u001b[0m\n\u001b[1;32m      4\u001b[0m all_transitions \u001b[38;5;241m=\u001b[39m pd\u001b[38;5;241m.\u001b[39mread_csv(\u001b[38;5;124m\"\u001b[39m\u001b[38;5;124m../data/all_transitions.csv\u001b[39m\u001b[38;5;124m\"\u001b[39m)\n\u001b[1;32m      5\u001b[0m all_hb_ddms \u001b[38;5;241m=\u001b[39m np\u001b[38;5;241m.\u001b[39marray([hbddm \u001b[38;5;28;01mfor\u001b[39;00m key,hbddm \u001b[38;5;129;01min\u001b[39;00m hb_ddms\u001b[38;5;241m.\u001b[39mitems()])\n\u001b[0;32m----> 7\u001b[0m \u001b[38;5;28;01mfor\u001b[39;00m D,pn \u001b[38;5;129;01min\u001b[39;00m \u001b[38;5;28mzip\u001b[39m(all_hb_ddms[np\u001b[38;5;241m.\u001b[39marray(\u001b[43mtransition\u001b[49m)\u001b[38;5;241m==\u001b[39m\u001b[38;5;124m'\u001b[39m\u001b[38;5;124m$O_\u001b[39m\u001b[38;5;132;01m{op}\u001b[39;00m\u001b[38;5;124m$ → $I_\u001b[39m\u001b[38;5;132;01m{op}\u001b[39;00m\u001b[38;5;124m$\u001b[39m\u001b[38;5;124m'\u001b[39m], protein_names[np\u001b[38;5;241m.\u001b[39marray(transition)\u001b[38;5;241m==\u001b[39m\u001b[38;5;124m'\u001b[39m\u001b[38;5;124m$O_\u001b[39m\u001b[38;5;132;01m{op}\u001b[39;00m\u001b[38;5;124m$ → $I_\u001b[39m\u001b[38;5;132;01m{op}\u001b[39;00m\u001b[38;5;124m$\u001b[39m\u001b[38;5;124m'\u001b[39m]):\n\u001b[1;32m      9\u001b[0m     DDM_linkage_cluster(D, helix_names\u001b[38;5;241m=\u001b[39mhelix_names, method\u001b[38;5;241m=\u001b[39m\u001b[38;5;124m'\u001b[39m\u001b[38;5;124maverage\u001b[39m\u001b[38;5;124m'\u001b[39m, figsize\u001b[38;5;241m=\u001b[39m(\u001b[38;5;241m6\u001b[39m,\u001b[38;5;241m6\u001b[39m), dendrogram_ratio\u001b[38;5;241m=\u001b[39m\u001b[38;5;241m0.2\u001b[39m)\n\u001b[1;32m     10\u001b[0m     plt\u001b[38;5;241m.\u001b[39mtitle(pn)\n",
      "\u001b[0;31mNameError\u001b[0m: name 'transition' is not defined"
     ]
    }
   ],
   "source": [
    "plt.rcParams.update({'font.size': 10})\n",
    "\n",
    "hb_ddms = np.load(\"../data/hb_ddms.npy\", allow_pickle=True).item()\n",
    "all_transitions = pd.read_csv(\"../data/all_transitions.csv\")\n",
    "all_hb_ddms = np.array([hbddm for key,hbddm in hb_ddms.items()])\n",
    "\n",
    "for D,pn in zip(all_hb_ddms[np.array(transition)=='$O_{op}$ → $I_{op}$'], protein_names[np.array(transition)=='$O_{op}$ → $I_{op}$']):\n",
    "\n",
    "    DDM_linkage_cluster(D, helix_names=helix_names, method='average', figsize=(6,6), dendrogram_ratio=0.2)\n",
    "    plt.title(pn)\n",
    "    \n",
    "    plt.xticks(rotation=90)\n",
    "    \n",
    "    #plt.savefig(\"clustermaps/\" + pn + \"_Oop_Iop_average_same_scale.pdf\", bbox_inches=\"tight\")"
   ]
  },
  {
   "cell_type": "code",
   "execution_count": null,
   "id": "91f202fa",
   "metadata": {},
   "outputs": [],
   "source": []
  }
 ],
 "metadata": {
  "kernelspec": {
   "display_name": "sequences",
   "language": "python",
   "name": "sequences"
  },
  "language_info": {
   "codemirror_mode": {
    "name": "ipython",
    "version": 3
   },
   "file_extension": ".py",
   "mimetype": "text/x-python",
   "name": "python",
   "nbconvert_exporter": "python",
   "pygments_lexer": "ipython3",
   "version": "3.10.4"
  }
 },
 "nbformat": 4,
 "nbformat_minor": 5
}
